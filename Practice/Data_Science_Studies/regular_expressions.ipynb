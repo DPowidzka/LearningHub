{
 "cells": [
  {
   "cell_type": "markdown",
   "metadata": {},
   "source": [
    "## Homework 'Regular expressions' notebook\n",
    "\n",
    "First, execute the first cell that contains a validation function to check if the exercise has been done correctly. This function can accept both a single logical condition and a list of conditions that must be met for the exercise to be done correctly. It is also worth examining the conditions in terms of writing tests."
   ]
  },
  {
   "cell_type": "code",
   "execution_count": 1,
   "metadata": {},
   "outputs": [],
   "source": [
    "def validate(condition: bool | list[bool], exercise_name: any = ''):\n",
    "    \"\"\" Non-blocking check of conditions to verify excercise.\n",
    "        Can take either bool condition or list of bool conditions (then all must be True to pass).\n",
    "\n",
    "    Args:\n",
    "        condition (Union[bool, list[bool]]): _description_\n",
    "        exercise (any, optional): _description_. Defaults to ''.\n",
    "    \"\"\"\n",
    "    if isinstance(condition, bool):\n",
    "      condition = [condition]\n",
    "\n",
    "    additional_message = ''\n",
    "    if not all(condition):\n",
    "        additional_message = f\"\\nConditions met: {condition}\"\n",
    "    condition = all(condition)\n",
    "\n",
    "    if condition:\n",
    "        print(f'**********\\nExcercise {exercise_name} well done!\\n**********')\n",
    "    else:\n",
    "        print(f'!!!!!!!!!!!!!!!\\n**********\\nExcercise {exercise_name} does not pass, check carefully your code.{additional_message}\\n**********')\n",
    "\n",
    "\n",
    "import re"
   ]
  },
  {
   "cell_type": "code",
   "execution_count": 2,
   "metadata": {},
   "outputs": [
    {
     "name": "stdout",
     "output_type": "stream",
     "text": [
      "**********\n",
      "Excercise count 'kot' well done!\n",
      "**********\n"
     ]
    }
   ],
   "source": [
    "# Exercise 1\n",
    "# Write a function which gets all occurences of 'kot'\n",
    "\n",
    "\n",
    "def find_kot(text: str) -> list[str]:\n",
    "    \n",
    "    return re.findall('kot', text)\n",
    "\n",
    "# ------------- exercise validation ------------------\n",
    "validate([\n",
    "    find_kot(\"Ala ma kota, a kot ma Alę.\") == [\"kot\", \"kot\"],\n",
    "    find_kot(\"Pies nie jest kotem.\") == [\"kot\"],\n",
    "    find_kot(\"Tu nie ma kota.\") == [\"kot\"],\n",
    "    find_kot(\"Tutaj nie ma tego słowa.\") == []\n",
    "], exercise_name=\"count 'kot'\")\n"
   ]
  },
  {
   "cell_type": "code",
   "execution_count": 3,
   "metadata": {},
   "outputs": [
    {
     "name": "stdout",
     "output_type": "stream",
     "text": [
      "**********\n",
      "Excercise Zadanie 2 well done!\n",
      "**********\n"
     ]
    }
   ],
   "source": [
    "# Exercise 2\n",
    "# Write a function which gets all numbers occurring in text.\n",
    "\n",
    "def find_numbers(text: str) -> list[str]:\n",
    "    \n",
    "    return re.findall(r'\\d+', text)\n",
    "\n",
    "# ------------- walidacja zadania ------------------\n",
    "validate([\n",
    "    find_numbers(\"Mam 2 koty i 3 psy.\") == [\"2\", \"3\"],\n",
    "    find_numbers(\"Zadanie 123 wymaga 45 minut.\") == [\"123\", \"45\"],\n",
    "    find_numbers(\"Tutaj nie ma żadnych liczb.\") == [],\n",
    "], exercise_name=\"Zadanie 2\")"
   ]
  },
  {
   "cell_type": "code",
   "execution_count": 4,
   "metadata": {},
   "outputs": [
    {
     "name": "stdout",
     "output_type": "stream",
     "text": [
      "**********\n",
      "Excercise find dates well done!\n",
      "**********\n"
     ]
    }
   ],
   "source": [
    "# Exercise 3\n",
    "# Write a function which returns all dates occurring in text in format DD-MM-YYYY.\n",
    "\n",
    "def find_dates(text: str) -> list[str]:\n",
    "    \n",
    "    return re.findall(r'\\d{2}-\\d{2}-\\d{4}', text)\n",
    "\n",
    "# ------------- walidacja zadania ------------------\n",
    "validate([\n",
    "    find_dates(\"Data urodzenia to 12-05-1990, a data dziś to 25-10-2023.\") == [\"12-05-1990\", \"25-10-2023\"],\n",
    "    find_dates(\"Mój plan: 01-01-2024, 12-12-2025, 2025-03-11\") == [\"01-01-2024\", \"12-12-2025\"],\n",
    "    find_dates(\"Brak poprawnej daty.\") == [],\n",
    "], exercise_name=\"find dates\")\n"
   ]
  },
  {
   "cell_type": "code",
   "execution_count": 5,
   "metadata": {},
   "outputs": [
    {
     "name": "stdout",
     "output_type": "stream",
     "text": [
      "**********\n",
      "Excercise spaces normalization well done!\n",
      "**********\n"
     ]
    }
   ],
   "source": [
    "# Exercise 4\n",
    "# Write a function which normalizes number of spaces between words into one space.\n",
    "\n",
    "def normalize_spaces(text: str) -> str:\n",
    "    \n",
    "    return re.sub(r'\\s+', ' ', text)\n",
    "\n",
    "# ------------- walidacja zadania ------------------\n",
    "validate([\n",
    "    normalize_spaces(\"To    jest   test   tekstu.\") == \"To jest test tekstu.\",\n",
    "    normalize_spaces(\"Kolejny             przykład   z  wieloma  spacji.\") == \"Kolejny przykład z wieloma spacji.\",\n",
    "    normalize_spaces(\"Brak  dodatkowych spacji.\") == \"Brak dodatkowych spacji.\",\n",
    "], exercise_name=\"spaces normalization\")\n"
   ]
  },
  {
   "cell_type": "code",
   "execution_count": 6,
   "metadata": {},
   "outputs": [
    {
     "name": "stdout",
     "output_type": "stream",
     "text": [
      "**********\n",
      "Excercise HTML text extraction well done!\n",
      "**********\n"
     ]
    }
   ],
   "source": [
    "# Exercise 5\n",
    "# Write a function which extract normalized text from HTML (removes HTML tags and normalizes white characters.) Treat HTML tag <br> like space.\n",
    "\n",
    "def remove_html_tags(text: str) -> str:\n",
    "    \n",
    "    text = re.sub(r'<br>', ' ', text)\n",
    "    text = re.sub(r'<[^>]+>', '', text)\n",
    "    text = re.sub(r'\\s+', ' ', text).strip()\n",
    "    return text\n",
    "\n",
    "# ------------- walidacja zadania ------------------\n",
    "\n",
    "\n",
    "validate([\n",
    "    remove_html_tags(\"<html><body><h1>Title</h1></body></html>\") == \"Title\",\n",
    "    remove_html_tags(\"<p>This is a paragraph.</p><br><div>Another line</div>\") == \"This is a paragraph. Another line\",\n",
    "    remove_html_tags(\"No HTML tags here.\") == \"No HTML tags here.\",\n",
    "    remove_html_tags(\"<div>  Text with   extra spaces   and newlines  </div>\\n\\n<p>Another  paragraph</p>\") == \"Text with extra spaces and newlines Another paragraph\"\n",
    "], exercise_name=\"HTML text extraction\")\n"
   ]
  }
 ],
 "metadata": {
  "kernelspec": {
   "display_name": "Python 3",
   "language": "python",
   "name": "python3"
  },
  "language_info": {
   "codemirror_mode": {
    "name": "ipython",
    "version": 3
   },
   "file_extension": ".py",
   "mimetype": "text/x-python",
   "name": "python",
   "nbconvert_exporter": "python",
   "pygments_lexer": "ipython3",
   "version": "3.12.0"
  }
 },
 "nbformat": 4,
 "nbformat_minor": 2
}
