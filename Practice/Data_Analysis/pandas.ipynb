{
 "cells": [
  {
   "cell_type": "code",
   "execution_count": 1,
   "metadata": {},
   "outputs": [],
   "source": [
    "import pandas as pd\n",
    "import numpy as np\n",
    "from io import StringIO"
   ]
  },
  {
   "cell_type": "code",
   "execution_count": 2,
   "metadata": {},
   "outputs": [
    {
     "data": {
      "text/html": [
       "<div>\n",
       "<style scoped>\n",
       "    .dataframe tbody tr th:only-of-type {\n",
       "        vertical-align: middle;\n",
       "    }\n",
       "\n",
       "    .dataframe tbody tr th {\n",
       "        vertical-align: top;\n",
       "    }\n",
       "\n",
       "    .dataframe thead th {\n",
       "        text-align: right;\n",
       "    }\n",
       "</style>\n",
       "<table border=\"1\" class=\"dataframe\">\n",
       "  <thead>\n",
       "    <tr style=\"text-align: right;\">\n",
       "      <th></th>\n",
       "      <th>name</th>\n",
       "      <th>sex</th>\n",
       "      <th>age</th>\n",
       "      <th>height</th>\n",
       "      <th>weight</th>\n",
       "      <th>test_result</th>\n",
       "    </tr>\n",
       "  </thead>\n",
       "  <tbody>\n",
       "    <tr>\n",
       "      <th>0</th>\n",
       "      <td>John</td>\n",
       "      <td>M</td>\n",
       "      <td>23</td>\n",
       "      <td>180</td>\n",
       "      <td>70</td>\n",
       "      <td>0.3</td>\n",
       "    </tr>\n",
       "    <tr>\n",
       "      <th>1</th>\n",
       "      <td>Kate</td>\n",
       "      <td>F</td>\n",
       "      <td>34</td>\n",
       "      <td>165</td>\n",
       "      <td>60</td>\n",
       "      <td>0.4</td>\n",
       "    </tr>\n",
       "    <tr>\n",
       "      <th>2</th>\n",
       "      <td>Peter</td>\n",
       "      <td>M</td>\n",
       "      <td>40</td>\n",
       "      <td>176</td>\n",
       "      <td>73</td>\n",
       "      <td>0.2</td>\n",
       "    </tr>\n",
       "    <tr>\n",
       "      <th>3</th>\n",
       "      <td>Anna</td>\n",
       "      <td>F</td>\n",
       "      <td>25</td>\n",
       "      <td>160</td>\n",
       "      <td>52</td>\n",
       "      <td>0.6</td>\n",
       "    </tr>\n",
       "    <tr>\n",
       "      <th>4</th>\n",
       "      <td>Stefan</td>\n",
       "      <td>M</td>\n",
       "      <td>30</td>\n",
       "      <td>182</td>\n",
       "      <td>85</td>\n",
       "      <td>0.1</td>\n",
       "    </tr>\n",
       "    <tr>\n",
       "      <th>5</th>\n",
       "      <td>David</td>\n",
       "      <td>M</td>\n",
       "      <td>24</td>\n",
       "      <td>175</td>\n",
       "      <td>65</td>\n",
       "      <td>0.5</td>\n",
       "    </tr>\n",
       "    <tr>\n",
       "      <th>6</th>\n",
       "      <td>Sophia</td>\n",
       "      <td>F</td>\n",
       "      <td>33</td>\n",
       "      <td>167</td>\n",
       "      <td>57</td>\n",
       "      <td>0.6</td>\n",
       "    </tr>\n",
       "    <tr>\n",
       "      <th>7</th>\n",
       "      <td>Jacob</td>\n",
       "      <td>M</td>\n",
       "      <td>36</td>\n",
       "      <td>180</td>\n",
       "      <td>75</td>\n",
       "      <td>0.4</td>\n",
       "    </tr>\n",
       "    <tr>\n",
       "      <th>8</th>\n",
       "      <td>Grace</td>\n",
       "      <td>F</td>\n",
       "      <td>28</td>\n",
       "      <td>158</td>\n",
       "      <td>54</td>\n",
       "      <td>0.7</td>\n",
       "    </tr>\n",
       "    <tr>\n",
       "      <th>9</th>\n",
       "      <td>Oliver</td>\n",
       "      <td>M</td>\n",
       "      <td>32</td>\n",
       "      <td>177</td>\n",
       "      <td>80</td>\n",
       "      <td>0.3</td>\n",
       "    </tr>\n",
       "  </tbody>\n",
       "</table>\n",
       "</div>"
      ],
      "text/plain": [
       "     name sex  age  height  weight  test_result\n",
       "0    John   M   23     180      70          0.3\n",
       "1    Kate   F   34     165      60          0.4\n",
       "2   Peter   M   40     176      73          0.2\n",
       "3    Anna   F   25     160      52          0.6\n",
       "4  Stefan   M   30     182      85          0.1\n",
       "5   David   M   24     175      65          0.5\n",
       "6  Sophia   F   33     167      57          0.6\n",
       "7   Jacob   M   36     180      75          0.4\n",
       "8   Grace   F   28     158      54          0.7\n",
       "9  Oliver   M   32     177      80          0.3"
      ]
     },
     "execution_count": 2,
     "metadata": {},
     "output_type": "execute_result"
    }
   ],
   "source": [
    "csv_data = StringIO(\"\"\"\n",
    "name,sex,age,height,weight,test_result\n",
    "John,M,23,180,70,0.3\n",
    "Kate,F,34,165,60,0.4\n",
    "Peter,M,40,176,73,0.2\n",
    "Anna,F,25,160,52,0.6\n",
    "Stefan,M,30,182,85,0.1\n",
    "David,M,24,175,65,0.5\n",
    "Sophia,F,33,167,57,0.6\n",
    "Jacob,M,36,180,75,0.4\n",
    "Grace,F,28,158,54,0.7\n",
    "Oliver,M,32,177,80,0.3\n",
    "\"\"\")\n",
    "\n",
    "df_orig = pd.read_csv(csv_data)\n",
    "\n",
    "df_orig\n"
   ]
  },
  {
   "cell_type": "code",
   "execution_count": 3,
   "metadata": {},
   "outputs": [
    {
     "name": "stdout",
     "output_type": "stream",
     "text": [
      "Solution is correct\n"
     ]
    },
    {
     "name": "stderr",
     "output_type": "stream",
     "text": [
      "C:\\Users\\domin\\AppData\\Local\\Temp\\ipykernel_13776\\1755251587.py:4: FutureWarning: Downcasting behavior in `replace` is deprecated and will be removed in a future version. To retain the old behavior, explicitly call `result.infer_objects(copy=False)`. To opt-in to the future behavior, set `pd.set_option('future.no_silent_downcasting', True)`\n",
      "  df['sex'] = df['sex'].replace({'M': 0, 'F':1})\n"
     ]
    }
   ],
   "source": [
    "# 01. Carry out the categorization for the 'sex' column: M -> 0, F -> 1\n",
    "df = df_orig.copy()\n",
    "\n",
    "df['sex'] = df['sex'].replace({'M': 0, 'F':1})\n",
    "\n",
    "# -------------------\n",
    "\n",
    "def test_01():\n",
    "    assert df['sex'].tolist() == [0, 1, 0, 1, 0, 0, 1, 0, 1, 0], 'Solution is incorrect'\n",
    "    print('Solution is correct')\n",
    "    \n",
    "test_01()"
   ]
  },
  {
   "cell_type": "code",
   "execution_count": 4,
   "metadata": {},
   "outputs": [
    {
     "name": "stdout",
     "output_type": "stream",
     "text": [
      "Solution is correct\n"
     ]
    }
   ],
   "source": [
    "# 02. Calculate the average age for each sex\n",
    "df = df_orig.copy()\n",
    "\n",
    "# Insert your code here\n",
    "mean_age = df.groupby('sex')['age'].mean()\n",
    "\n",
    "male_mean_age = mean_age['M']\n",
    "female_mean_age = mean_age['F']\n",
    "\n",
    "\n",
    "# -------------------\n",
    "\n",
    "def test_02():\n",
    "    assert np.isclose(male_mean_age, 30.8, atol=0.1) and np.isclose(female_mean_age, 30.0, atol=0.1), 'Solution is incorrect'\n",
    "    print('Solution is correct')\n",
    "\n",
    "test_02()\n"
   ]
  },
  {
   "cell_type": "code",
   "execution_count": 5,
   "metadata": {},
   "outputs": [
    {
     "name": "stdout",
     "output_type": "stream",
     "text": [
      "Solution is correct\n"
     ]
    }
   ],
   "source": [
    "# 03. Add a new column \"bmi\" - Body Mass Index (weight/(height/100)**2)\n",
    "df = df_orig.copy()\n",
    "\n",
    "df['bmi'] = df['weight']/((df['height']/100)**2)\n",
    "df\n",
    "\n",
    "# -------------------\n",
    "\n",
    "def test_03():\n",
    "    assert all(np.isclose(\n",
    "        df['bmi'],\n",
    "        [21.60,  22.03, 23.56, 20.31,  25.66, 21.22,  20.43,  23.14, 21.63, 25.53],\n",
    "        atol=0.1)\n",
    "        ), 'Solution is incorrect'\n",
    "    print('Solution is correct')\n",
    "    \n",
    "test_03()\n"
   ]
  },
  {
   "cell_type": "code",
   "execution_count": 6,
   "metadata": {},
   "outputs": [
    {
     "name": "stdout",
     "output_type": "stream",
     "text": [
      "Solution is correct\n"
     ]
    }
   ],
   "source": [
    "# 04. Find the name of the person with the highest test result\n",
    "# Clue - use function idxmax() on column to find index with max value\n",
    "\n",
    "df = df_orig.copy()\n",
    "\n",
    "name_index = df['test_result'].idxmax()\n",
    "name = df.loc[name_index, 'name']\n",
    "name\n",
    "\n",
    "\n",
    "\n",
    "def test_04():\n",
    "    assert name == 'Grace', 'Solution is incorrect'\n",
    "    print('Solution is correct')\n",
    "\n",
    "test_04()\n"
   ]
  },
  {
   "cell_type": "code",
   "execution_count": 7,
   "metadata": {},
   "outputs": [
    {
     "name": "stdout",
     "output_type": "stream",
     "text": [
      "Solution is correct\n"
     ]
    }
   ],
   "source": [
    "# 05. Count how many people are under 30 years old\n",
    "\n",
    "df = df_orig.copy()\n",
    "\n",
    "num_people_below_30 = (df['age'] < 30).sum()\n",
    "num_people_below_30\n",
    "\n",
    "\n",
    "def test_05():\n",
    "    assert num_people_below_30 == 4, 'Solution is incorrect'\n",
    "    print('Solution is correct')\n",
    "\n",
    "test_05()\n"
   ]
  },
  {
   "cell_type": "code",
   "execution_count": 8,
   "metadata": {},
   "outputs": [
    {
     "name": "stdout",
     "output_type": "stream",
     "text": [
      "Solution is correct\n"
     ]
    }
   ],
   "source": [
    "# 06. Add a new column 'test_passed', which will have value 1 if 'test_result' > 0.3, otherwise 0.\n",
    "# Additionally, compute the percentage of people who passed the test.\n",
    "# Clue 1: use function apply() on column or np.where() to calculate 'test_passed'01_cwiczenia_pandas.ipynb\n",
    "# Clue 2: use .sum() on 'test_passed'\n",
    "\n",
    "df = df_orig.copy()\n",
    "\n",
    "df['test_passed'] = np.where(df['test_result'] > 0.3, 1, 0)\n",
    "mean_test_result = df['test_passed'].sum() / len(df) * 100\n",
    "\n",
    "def test_06():\n",
    "    assert df['test_passed'].tolist() == [0, 1, 0, 1, 0, 1, 1, 1, 1, 0], 'Solution is incorrect'\n",
    "    assert np.isclose(mean_test_result, 60, atol=0.00), 'Solution is incorrect'\n",
    "    print('Solution is correct')\n",
    "\n",
    "test_06()\n",
    "\n",
    "\n"
   ]
  }
 ],
 "metadata": {
  "kernelspec": {
   "display_name": "Python 3",
   "language": "python",
   "name": "python3"
  },
  "language_info": {
   "codemirror_mode": {
    "name": "ipython",
    "version": 3
   },
   "file_extension": ".py",
   "mimetype": "text/x-python",
   "name": "python",
   "nbconvert_exporter": "python",
   "pygments_lexer": "ipython3",
   "version": "3.12.0"
  },
  "orig_nbformat": 4
 },
 "nbformat": 4,
 "nbformat_minor": 2
}
