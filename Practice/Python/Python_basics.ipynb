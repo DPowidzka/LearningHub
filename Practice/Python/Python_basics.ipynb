{
 "cells": [
  {
   "cell_type": "markdown",
   "metadata": {
    "id": "UlqWTzpkDlPX"
   },
   "source": [
    "## Homework 'Python podstawy' notebook\n",
    "\n",
    "First, execute the first cell that contains a validation function to check if the exercise has been done correctly. This function can accept both a single logical condition and a list of conditions that must be met for the exercise to be done correctly. It is also worth examining the conditions in terms of writing tests.\n"
   ]
  },
  {
   "cell_type": "code",
   "execution_count": 6,
   "metadata": {
    "id": "eA0WFZDvDno9"
   },
   "outputs": [],
   "source": [
    "def validate(condition: bool | list[bool], exercise_name: any = ''):\n",
    "    \"\"\" Non-blocking check of conditions to verify excercise.\n",
    "        Can take either bool condition or list of bool conditions (then all must be True to pass).\n",
    "\n",
    "    Args:\n",
    "        condition (Union[bool, list[bool]]): _description_\n",
    "        exercise (any, optional): _description_. Defaults to ''.\n",
    "    \"\"\"\n",
    "    if isinstance(condition, bool):\n",
    "      condition = [condition]\n",
    "\n",
    "    additional_message = ''\n",
    "    if not all(condition):\n",
    "        additional_message = f\"\\nConditions met: {condition}\"\n",
    "    condition = all(condition)\n",
    "\n",
    "    if condition:\n",
    "        print(f'**********\\nExcercise {exercise_name} well done!\\n**********')\n",
    "    else:\n",
    "        print(f'!!!!!!!!!!!!!!!\\n**********\\nExcercise {exercise_name} does not pass, check carefully your code.{additional_message}\\n**********')"
   ]
  },
  {
   "cell_type": "code",
   "execution_count": 10,
   "metadata": {
    "id": "r4Qa9Gg53ofZ"
   },
   "outputs": [
    {
     "name": "stdout",
     "output_type": "stream",
     "text": [
      "**********\n",
      "Excercise 1a well done!\n",
      "**********\n",
      "**********\n",
      "Excercise 1b well done!\n",
      "**********\n",
      "**********\n",
      "Excercise 1c well done!\n",
      "**********\n",
      "**********\n",
      "Excercise 1d well done!\n",
      "**********\n",
      "**********\n",
      "Excercise 1e well done!\n",
      "**********\n"
     ]
    }
   ],
   "source": [
    "# Exercise 1\n",
    "\n",
    "# Follow the instructions for subtasks a, b, c, d, e\n",
    "\n",
    "\n",
    "fruit_names = ['orange', 'apple', 'grape', 'lemon', 'melon']\n",
    "\n",
    "# a) Extend the fruit_names list with 2 vegatables (append() or extend())\n",
    "\n",
    "fruit_names.extend(['carrot', 'tomatoe'])\n",
    "\n",
    "validate(len(fruit_names) == 7, '1a')\n",
    "\n",
    "# b) Shuffle the list (using import random and random.shuffle()), so fruit_names has fruits in a different order\n",
    "original_list = fruit_names.copy()\n",
    "\n",
    "import random\n",
    "random.shuffle(original_list)\n",
    "\n",
    "validate([\n",
    "    len(fruit_names) == len(original_list),\n",
    "    original_list != fruit_names,\n",
    "    set(original_list) == set(fruit_names)\n",
    "    ], '1b')\n",
    "\n",
    "fruit_names = original_list.copy()\n",
    "\n",
    "# c) Find the position of first vegetable (using list.index(item))\n",
    "\n",
    "position = None \n",
    "position = fruit_names.index('carrot')\n",
    "\n",
    "validate(position == 5, '1c')\n",
    "\n",
    "# d) Remove last element of fruit_names with .pop()\n",
    "\n",
    "fruit_names.pop()\n",
    "\n",
    "validate([fruit_names == original_list[:-1]], '1d')\n",
    "\n",
    "# e) Sort the list in alphabetical order (sorted())\n",
    "\n",
    "sorted_fruits = sorted(fruit_names) # your code here\n",
    "\n",
    "validate([sorted_fruits[i] < sorted_fruits[i + 1] for i in range(len(sorted_fruits) - 1)], '1e')\n"
   ]
  },
  {
   "cell_type": "code",
   "execution_count": 72,
   "metadata": {
    "id": "7AWU-ID-1xsr"
   },
   "outputs": [
    {
     "name": "stdout",
     "output_type": "stream",
     "text": [
      "**********\n",
      "Excercise  well done!\n",
      "**********\n"
     ]
    }
   ],
   "source": [
    "# Exercise 2\n",
    "\n",
    "# Write a function that checks whether a given number n is a prime number by checking for \n",
    "# divisibility from 2 to sqrt(n). If it is a prime number, return -1, and if it is composite, \n",
    "# return the found divisor. \n",
    "# Hint: the square root of n rounded to the nearest integer can be obtained by int(n**0.5).\n",
    "# Keep in mind that last number in range() is exclusive.\n",
    "\n",
    "\n",
    "def find_divisor(n: int) -> int:\n",
    "    # your code here\n",
    "    #pass  # pass is used to indicate placeholder for instruction and keep Python sytax correct (replace it with your code)\n",
    "\n",
    "    for i in range(2, int(n**0.5) + 1):\n",
    "        if n % i == 0:\n",
    "            return i\n",
    "    return -1\n",
    "\n",
    "\n",
    "validate([\n",
    "    find_divisor(5) == -1,\n",
    "    find_divisor(121) == 11,\n",
    "    find_divisor(6) == 2,\n",
    "    find_divisor(25) == 5,\n",
    "    find_divisor(97) == -1,\n",
    "    ])\n"
   ]
  },
  {
   "cell_type": "code",
   "execution_count": 12,
   "metadata": {
    "id": "XVD4n2Id6Uiw"
   },
   "outputs": [
    {
     "name": "stdout",
     "output_type": "stream",
     "text": [
      "**********\n",
      "Excercise  well done!\n",
      "**********\n"
     ]
    },
    {
     "data": {
      "text/plain": [
       "['Robert Kubica was born in 1984',\n",
       " 'Marek Kondrat was born in 1950',\n",
       " 'Dorota Rabczewska was born in 1984',\n",
       " 'Adam Małysz was born in 1977',\n",
       " 'Krzysztof Ibisz was born in 1965']"
      ]
     },
     "execution_count": 12,
     "metadata": {},
     "output_type": "execute_result"
    }
   ],
   "source": [
    "# Exercise 3\n",
    "\n",
    "# Combine lists using zip, and print list of sentences \"<name> <surname> was born in <year>\" using for loop and appending values to combined_list\n",
    "\n",
    "names_list    = ['Robert', 'Marek',   'Dorota',     'Adam',   'Krzysztof']\n",
    "surnames_list = ['Kubica', 'Kondrat', 'Rabczewska', 'Małysz', 'Ibisz'    ]\n",
    "born_list     = [ 1984,     1950,      1984,         1977,     1965      ]\n",
    "\n",
    "combined_list = []\n",
    "\n",
    "for name, surname, birth in zip(names_list, surnames_list, born_list):\n",
    "    combined_list.append(f'{name} {surname} was born in {birth}')\n",
    "    \n",
    "\n",
    "\n",
    "validate(combined_list == ['Robert Kubica was born in 1984',\n",
    "                           'Marek Kondrat was born in 1950',\n",
    "                           'Dorota Rabczewska was born in 1984',\n",
    "                           'Adam Małysz was born in 1977',\n",
    "                           'Krzysztof Ibisz was born in 1965'])\n",
    "\n",
    "combined_list"
   ]
  },
  {
   "cell_type": "code",
   "execution_count": 21,
   "metadata": {
    "id": "n5NBuMFEGn0Y"
   },
   "outputs": [
    {
     "name": "stdout",
     "output_type": "stream",
     "text": [
      "**********\n",
      "Excercise  well done!\n",
      "**********\n"
     ]
    },
    {
     "data": {
      "text/plain": [
       "'Robert Kubica was born in 1984 and Dorota Rabczewska was born in 1984 and Adam Małysz was born in 1977'"
      ]
     },
     "execution_count": 21,
     "metadata": {},
     "output_type": "execute_result"
    }
   ],
   "source": [
    "# Exercise 4\n",
    "\n",
    "# 1. Similarly to excerise 3 use list comprehension sytanx with zip \n",
    "#    [some_function(item1, item2, ...) for item1, item2, ... in zip(iterable1, iterable2, ...) if condition] \n",
    "#    to generate the same list and additionally take only people who were born after min_year\n",
    "# 2. Print one final long sentence joining combined_list to one string separated with \" and \", so we get\n",
    "#    \"Robert Kubica was born in 1984 and Dorota Rabczewska was born in 1984 and Adam Małysz was born in 1977\"\n",
    "#    clue: use \"<separator text>\".join(iterable) function to join combined_list (so \"<separator text>\" would be \" and \")\n",
    "\n",
    "min_year = 1975\n",
    "\n",
    "names_list    = ['Robert', 'Marek',   'Dorota',     'Adam',   'Krzysztof']\n",
    "surnames_list = ['Kubica', 'Kondrat', 'Rabczewska', 'Małysz', 'Ibisz'    ]\n",
    "born_list     = [ 1984,     1950,      1984,         1977,     1965      ]\n",
    "\n",
    "# your code\n",
    "combined_list = [f\"{name} {surname} was born in {birth}\" for name, surname, birth in zip(names_list, surnames_list, born_list) if birth>min_year]\n",
    "joined = \" and \".join(combined_list)\n",
    "\n",
    "validate(joined == 'Robert Kubica was born in 1984 and Dorota Rabczewska was born in 1984 and Adam Małysz was born in 1977')\n",
    "joined"
   ]
  },
  {
   "cell_type": "code",
   "execution_count": 34,
   "metadata": {
    "id": "ZFaI9dQ47h72"
   },
   "outputs": [
    {
     "name": "stdout",
     "output_type": "stream",
     "text": [
      "**********\n",
      "Excercise  well done!\n",
      "**********\n"
     ]
    }
   ],
   "source": [
    "# Exercise 5\n",
    "\n",
    "# Write a one-liner (solution which takes one line) that takes a list of numbers and returns a new list \n",
    "# containing only the even numbers.\n",
    "# Clue: try two ways: 1) basic: list comprehension, 2) advanced: map and filter built-in with lambda\n",
    "\n",
    "numbers = [2, 3, 4, 5, 6, 7, 8, 9, 10]\n",
    "\n",
    "# basic\n",
    "filtered_list = [number for number in numbers if number %2 == 0]  \n",
    "# advanced\n",
    "filtered_list = list(filter(None, (map(lambda number: number if number%2==0 else None, numbers))))\n",
    "\n",
    "validate(filtered_list == [2, 4, 6, 8, 10])"
   ]
  },
  {
   "cell_type": "code",
   "execution_count": 76,
   "metadata": {
    "id": "Ebc-tHfc7nbh"
   },
   "outputs": [
    {
     "name": "stdout",
     "output_type": "stream",
     "text": [
      "**********\n",
      "Excercise  well done!\n",
      "**********\n"
     ]
    }
   ],
   "source": [
    "# Exercise 6\n",
    "\n",
    "# Write a one-liner that takes a list of strings and returns a new list \n",
    "# containing the length of each string.\n",
    "\n",
    "strings = ['I', 'love', 'python', 'programming', 'so', 'muuuch']\n",
    "\n",
    "lengths = [len(string) for string in strings]  # your code here\n",
    "\n",
    "validate(lengths == [1, 4, 6, 11, 2, 6])"
   ]
  },
  {
   "cell_type": "code",
   "execution_count": 77,
   "metadata": {
    "id": "3q6Nl4g_8sc6"
   },
   "outputs": [
    {
     "name": "stdout",
     "output_type": "stream",
     "text": [
      "**********\n",
      "Excercise  well done!\n",
      "**********\n"
     ]
    }
   ],
   "source": [
    "# Exercise 7\n",
    "\n",
    "# Write a a one-liner that takes two lists: names of illnesses and returns a new list \n",
    "# containing only the common elements of the two lists. Use list comprehensions with\n",
    "# filtering and 'in' operator on lists.\n",
    "\n",
    "illnesses_1 = ['Influenza', 'Pneumonia', 'Tuberculosis', 'Malaria']\n",
    "illnesses_2 = ['Pneumonia', 'Malaria', 'Ebola', 'Cholera']\n",
    "\n",
    "common = [illness for illness in filter(lambda illness: illness in illnesses_2, illnesses_1)] # your code here\n",
    "\n",
    "validate(set(common) == set(illnesses_1).intersection(set(illnesses_2)))"
   ]
  },
  {
   "cell_type": "code",
   "execution_count": 66,
   "metadata": {
    "id": "_4tbWh5R_AgK"
   },
   "outputs": [
    {
     "name": "stdout",
     "output_type": "stream",
     "text": [
      "**********\n",
      "Excercise  well done!\n",
      "**********\n"
     ]
    }
   ],
   "source": [
    "# Exercise 8\n",
    "\n",
    "# Write two functions swap_word, swap_all_words that take a string as input and return a new string, where \n",
    "# the first and last characters of each word are swapped. For example, \"hello world\" becomes \"oellh dorlw\".\n",
    "# If a word is 1-letter it should be left as it is.\n",
    "# Hint: you can use ' '.join() and .split() methods\n",
    "\n",
    "def swap_word(word: str) -> str:\n",
    "    \n",
    "    if len(word) > 1:\n",
    "        return word[-1] + word[1:-1] + word[0]\n",
    "    else:\n",
    "        return word\n",
    "\n",
    "\n",
    "def swap_all_words(input_string: str) -> str:\n",
    "    \n",
    "    words = input_string.split()\n",
    "    swapped_words = [swap_word(word) for word in words]\n",
    "    return ' '.join(swapped_words)\n",
    "\n",
    "\n",
    "validate([\n",
    "    swap_word('hello') == 'oellh',\n",
    "    swap_word('a') == 'a',\n",
    "    swap_word('Adam') == 'mdaA',\n",
    "    swap_all_words('Ala ma kota') == 'alA am aotk',\n",
    "    swap_all_words('hello') == 'oellh',\n",
    "    swap_all_words('Shine on you crazy diamond') == 'ehinS no uoy yrazc diamond',\n",
    "    swap_all_words('no') == 'on',\n",
    "    swap_all_words(\"It's a mystery to me\") == \"st'I a yysterm ot em\",\n",
    "])\n",
    "\n"
   ]
  },
  {
   "cell_type": "code",
   "execution_count": 68,
   "metadata": {
    "id": "yzmt0ioxJ3Ju"
   },
   "outputs": [
    {
     "name": "stdout",
     "output_type": "stream",
     "text": [
      "**********\n",
      "Excercise Exercise 9 well done!\n",
      "**********\n"
     ]
    }
   ],
   "source": [
    "# Exercise 9\n",
    "# Create a function that returns the count of vowels in the input string s - please support Polish vowels.\n",
    "\n",
    "def count_vowels(s: str) -> int:\n",
    "    \n",
    "    count = 0\n",
    "    vowels = 'aąeioóuy'\n",
    "    for letter in s:\n",
    "        if letter in vowels:\n",
    "            count += 1\n",
    "    return count\n",
    "\n",
    "# ------------- exercise validation ------------------\n",
    "validate([\n",
    "    count_vowels(\"hello\") == 2,\n",
    "    count_vowels(\"world\") == 1,\n",
    "    count_vowels(\"aeiou\") == 5,\n",
    "    count_vowels(\"bcd\") == 0,\n",
    "], exercise_name=\"Exercise 9\")"
   ]
  },
  {
   "cell_type": "code",
   "execution_count": 71,
   "metadata": {},
   "outputs": [
    {
     "name": "stdout",
     "output_type": "stream",
     "text": [
      "**********\n",
      "Excercise Exercise 10 well done!\n",
      "**********\n"
     ]
    }
   ],
   "source": [
    "# Exercise 10\n",
    "# Implement a function that returns the greatest common divisor of two numbers a and b. Use Euclidean algorithm.\n",
    "\n",
    "def gcd(a: int, b: int) -> int:\n",
    "    \n",
    "    while b != 0:\n",
    "        a, b = b, a % b\n",
    "    return a    \n",
    "\n",
    "# ------------- exercise validation ------------------\n",
    "validate([\n",
    "    gcd(48, 18) == 6,\n",
    "    gcd(100, 10) == 10,\n",
    "    gcd(7, 3) == 1,\n",
    "    gcd(81, 27) == 27,\n",
    "], exercise_name=\"Exercise 10\")"
   ]
  },
  {
   "cell_type": "code",
   "execution_count": 78,
   "metadata": {},
   "outputs": [
    {
     "name": "stdout",
     "output_type": "stream",
     "text": [
      "**********\n",
      "Excercise Exercise 11 well done!\n",
      "**********\n"
     ]
    }
   ],
   "source": [
    "# Exercise 11\n",
    "# Create a function that returns a list of all prime numbers up to n (optionally you can specify starting number).\n",
    "# If starting number is greater than n, return empty list.\n",
    "# NOTE: You can use some previous task.\n",
    "\n",
    "def primes_up_to(n: int, start: int = 2) -> list[int]:\n",
    "    \n",
    "    prime_numbers = []\n",
    "    if start > n:\n",
    "        return []\n",
    "    for number in range(start, n+1):\n",
    "        if find_divisor(number) == -1:\n",
    "            prime_numbers.append(number)\n",
    "    \n",
    "    return prime_numbers\n",
    "\n",
    "# ------------- exercise validation ------------------\n",
    "validate([\n",
    "    primes_up_to(10) == [2, 3, 5, 7],\n",
    "    primes_up_to(20) == [2, 3, 5, 7, 11, 13, 17, 19],\n",
    "    primes_up_to(1) == [],\n",
    "    primes_up_to(2) == [2],\n",
    "    primes_up_to(10, 5) == [5, 7],\n",
    "    primes_up_to(60, 45) == [47, 53, 59],\n",
    "    primes_up_to(1532, 1410) == [1423, 1427, 1429, 1433, 1439, 1447, 1451, 1453, 1459, 1471, 1481, 1483, 1487, 1489, 1493, 1499, 1511, 1523, 1531],\n",
    "    primes_up_to(10, 200) == []\n",
    "], exercise_name=\"Exercise 11\")\n"
   ]
  },
  {
   "cell_type": "code",
   "execution_count": null,
   "metadata": {},
   "outputs": [],
   "source": [
    "# Exercise 12\n",
    "# Define a function that checks if all characters in a string s are unique.\n",
    "\n",
    "def has_unique_characters(s: str) -> bool:\n",
    "    \n",
    "    return len(s) == len(set(s))\n",
    "\n",
    "# ------------- exercise validation ------------------\n",
    "validate([\n",
    "    has_unique_characters(\"hello\") == False,\n",
    "    has_unique_characters(\"world\") == True,\n",
    "    has_unique_characters(\"abc\") == True,\n",
    "    has_unique_characters(\"\") == True,\n",
    "], exercise_name=\"Exercise 12\")"
   ]
  },
  {
   "cell_type": "code",
   "execution_count": null,
   "metadata": {},
   "outputs": [],
   "source": [
    "# Exercise 13\n",
    "# Create a function that returns the sum of all positive numbers in a list.\n",
    "\n",
    "def sum_positive(lst: list[int]) -> int:\n",
    "    \n",
    "    sum_numbers = 0\n",
    "    for number in lst:\n",
    "        if number > 0:\n",
    "            sum_numbers += number\n",
    "    return sum_numbers\n",
    "\n",
    "# ------------- exercise validation ------------------\n",
    "validate([\n",
    "    sum_positive([1, -2, 3, -4, 5]) == 9,\n",
    "    sum_positive([-1, -2, -3]) == 0,\n",
    "    sum_positive([0, 1, 2, 3]) == 6,\n",
    "    sum_positive([]) == 0,\n",
    "], exercise_name=\"Exercise 13\")"
   ]
  },
  {
   "cell_type": "code",
   "execution_count": 79,
   "metadata": {},
   "outputs": [
    {
     "name": "stdout",
     "output_type": "stream",
     "text": [
      "**********\n",
      "Excercise Exercise 14 well done!\n",
      "**********\n"
     ]
    }
   ],
   "source": [
    "# Exercise 14\n",
    "# Implement a function that flattens a list of (list or int) into a single list.\n",
    "# NOTE: use instanceof function to check element type\n",
    "\n",
    "\n",
    "def flatten(lst: list[list[int] | int]) -> list[int]:\n",
    "    \n",
    "    flattened = []\n",
    "    for item in lst:\n",
    "        if isinstance(item, list):\n",
    "            flattened.extend(item)\n",
    "        else:\n",
    "            flattened.append(item)\n",
    "    \n",
    "    return flattened\n",
    "\n",
    "# ------------- exercise validation ------------------\n",
    "validate([\n",
    "    flatten([[1, 2], [3, 4], [5]]) == [1, 2, 3, 4, 5],\n",
    "    flatten([[], [1], [2, 3]]) == [1, 2, 3],\n",
    "    flatten([]) == [],\n",
    "    flatten([[1, 2, 3]]) == [1, 2, 3],\n",
    "    flatten([[1, 2, 3, 4], [4, 5], [6, 7, 8]]) == [1, 2, 3, 4, 4, 5, 6, 7, 8],\n",
    "    flatten([[1, 2, 3, 4], 4, 5, [6, 7, 8]]) == [1, 2, 3, 4, 4, 5, 6, 7, 8],\n",
    "], exercise_name=\"Exercise 14\")\n"
   ]
  },
  {
   "cell_type": "code",
   "execution_count": 80,
   "metadata": {},
   "outputs": [
    {
     "name": "stdout",
     "output_type": "stream",
     "text": [
      "**********\n",
      "Excercise Exercise 15 well done!\n",
      "**********\n"
     ]
    }
   ],
   "source": [
    "# Exercise 15\n",
    "# Define a function that returns the longest word in a sentence.\n",
    "\n",
    "def longest_word(sentence: str) -> str:\n",
    "    \n",
    "    return max(sentence.split(), key=lambda word: len(word), default=\"\")\n",
    "\n",
    "\n",
    "# ------------- exercise validation ------------------\n",
    "validate([\n",
    "    longest_word(\"The quick brown fox\") == \"quick\",\n",
    "    longest_word(\"Python programming is fun\") == \"programming\",\n",
    "    longest_word(\"a abc abcd\") == \"abcd\",\n",
    "    longest_word(\"\") == \"\",\n",
    "], exercise_name=\"Exercise 15\")\n"
   ]
  },
  {
   "cell_type": "code",
   "execution_count": 81,
   "metadata": {},
   "outputs": [
    {
     "name": "stdout",
     "output_type": "stream",
     "text": [
      "**********\n",
      "Excercise Exercise 16 well done!\n",
      "**********\n"
     ]
    }
   ],
   "source": [
    "# Exercise 16\n",
    "# Complete a function which filters out odd numbers, add returns list of squares of even numbers.\n",
    "# Create necessary lambda expressions in provided code.\n",
    "\n",
    "def filter_multiply(lst: list[int]) -> list[int]:\n",
    "    filtered_it = filter(\n",
    "            lambda even: even % 2 == 0\n",
    "            , lst)\n",
    "    return list(map(\n",
    "        lambda square: square ** 2\n",
    "        , filtered_it))\n",
    "\n",
    "\n",
    "# ------------- exercise validation ------------------\n",
    "validate([\n",
    "    filter_multiply([3, 5, 6, 7, 8]) == [36, 64],\n",
    "    filter_multiply([2, 2, 4, 5]) == [4, 4, 16],\n",
    "    filter_multiply([-2, 4, -10, 10, 11]) == [4, 16, 100, 100],\n",
    "], exercise_name=\"Exercise 16\")\n"
   ]
  },
  {
   "cell_type": "code",
   "execution_count": 82,
   "metadata": {},
   "outputs": [
    {
     "name": "stdout",
     "output_type": "stream",
     "text": [
      "**********\n",
      "Excercise Exercise 17 well done!\n",
      "**********\n"
     ]
    }
   ],
   "source": [
    "# Exercise 17\n",
    "# Use a lambda function to sort a list of tuples by the second element.\n",
    "\n",
    "def sort_by_second(lst: list[tuple[int, int]]) -> list[tuple[int, int]]:\n",
    "    \n",
    "    return list(sorted(lst, key= lambda item: item[1]))\n",
    "\n",
    "# ------------- exercise validation ------------------\n",
    "validate([\n",
    "    sort_by_second([(1, 2), (3, 1), (5, 0)]) == [(5, 0), (3, 1), (1, 2)],\n",
    "    sort_by_second([(1, 3), (2, 2), (3, 1)]) == [(3, 1), (2, 2), (1, 3)],\n",
    "    sort_by_second([]) == [],\n",
    "    sort_by_second([(1,1), (2, 1)]) == [(1,1), (2, 1)],\n",
    "], exercise_name=\"Exercise 17\")\n"
   ]
  }
 ],
 "metadata": {
  "colab": {
   "provenance": []
  },
  "kernelspec": {
   "display_name": "Python 3",
   "language": "python",
   "name": "python3"
  },
  "language_info": {
   "codemirror_mode": {
    "name": "ipython",
    "version": 3
   },
   "file_extension": ".py",
   "mimetype": "text/x-python",
   "name": "python",
   "nbconvert_exporter": "python",
   "pygments_lexer": "ipython3",
   "version": "3.12.0"
  }
 },
 "nbformat": 4,
 "nbformat_minor": 0
}
